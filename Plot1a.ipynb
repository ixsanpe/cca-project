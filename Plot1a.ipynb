{
 "cells": [
  {
   "cell_type": "markdown",
   "id": "98e6e606-5a03-46b0-b23a-6b935cca9a49",
   "metadata": {},
   "source": [
    "### Load and process results"
   ]
  },
  {
   "cell_type": "code",
   "execution_count": 72,
   "id": "0287cb55-1ad4-434c-8c98-64e325b86d9f",
   "metadata": {},
   "outputs": [],
   "source": [
    "import pandas as pd"
   ]
  },
  {
   "cell_type": "code",
   "execution_count": 73,
   "id": "df727610-4c56-4264-b861-951a67128810",
   "metadata": {},
   "outputs": [],
   "source": [
    "# Load data\n",
    "\n",
    "int_types = ['cpu', 'l1d', 'l1i', 'l2', 'llc', 'membw', 'no_intf']\n",
    "QPSrange = range(5000, 80001, 5000)\n",
    "\n",
    "#cpu = []\n",
    "#l1d = []\n",
    "#l1i = []\n",
    "#llc = []\n",
    "#membw = []\n",
    "#no_intf = []\n",
    "\n",
    "run_results = {'cpu':[], \n",
    "           'l1d':[], \n",
    "           'l1i':[], \n",
    "           'l2':[], \n",
    "           'llc':[], \n",
    "           'membw':[], \n",
    "           'no_intf':[]\n",
    "          }\n",
    "\n",
    "run_achieved_qps = {'cpu':[], \n",
    "           'l1d':[], \n",
    "           'l1i':[], \n",
    "           'l2':[], \n",
    "           'llc':[], \n",
    "           'membw':[], \n",
    "           'no_intf':[]\n",
    "          }\n",
    "\n",
    "\n"
   ]
  },
  {
   "cell_type": "code",
   "execution_count": 92,
   "id": "8f5ffb76-9dab-4b6f-8482-a625934d55b3",
   "metadata": {},
   "outputs": [],
   "source": [
    "base_path = 'results_part1/'\n",
    "for iname in int_types:\n",
    "    # Construct path to results\n",
    "    if iname == 'no_intf':\n",
    "        res_path = iname + '/run'\n",
    "    else:\n",
    "        res_path = 'ibench-' + iname + '/run'\n",
    "    # Load each run's results\n",
    "    for i in range(1, 3):\n",
    "        data = pd.read_csv(base_path + res_path + str(i) + '.ssv' ,delim_whitespace=True)\n",
    "        res = list(data['p95'])\n",
    "        qps = list(data['QPS'])\n",
    "        run_results[iname].append(res)\n",
    "        run_achieved_qps[iname].append(qps)\n",
    "    "
   ]
  },
  {
   "cell_type": "markdown",
   "id": "ce7701d1-2f65-40cb-aabd-8417ce20a37c",
   "metadata": {},
   "source": [
    "### import numpy as np\n",
    "\n"
   ]
  },
  {
   "cell_type": "code",
   "execution_count": 93,
   "id": "63720acb-1a06-497a-b8ae-c46a10ef7284",
   "metadata": {},
   "outputs": [],
   "source": [
    "import numpy as np\n",
    "from matplotlib import pyplot as plt"
   ]
  },
  {
   "cell_type": "code",
   "execution_count": 110,
   "id": "cbeb430b-f17f-4403-8098-a448f19dd076",
   "metadata": {},
   "outputs": [
    {
     "data": {
      "text/plain": [
       "([<matplotlib.axis.XTick object at 0x7faba7264580>,\n",
       "  <matplotlib.axis.XTick object at 0x7faba7264550>,\n",
       "  <matplotlib.axis.XTick object at 0x7faba7255760>,\n",
       "  <matplotlib.axis.XTick object at 0x7faba71ed190>,\n",
       "  <matplotlib.axis.XTick object at 0x7faba71ed8e0>,\n",
       "  <matplotlib.axis.XTick object at 0x7faba71c8070>,\n",
       "  <matplotlib.axis.XTick object at 0x7faba71c87c0>,\n",
       "  <matplotlib.axis.XTick object at 0x7faba71c2070>,\n",
       "  <matplotlib.axis.XTick object at 0x7faba71c8790>,\n",
       "  <matplotlib.axis.XTick object at 0x7faba71ed9d0>,\n",
       "  <matplotlib.axis.XTick object at 0x7faba71c2730>,\n",
       "  <matplotlib.axis.XTick object at 0x7faba71c2e80>,\n",
       "  <matplotlib.axis.XTick object at 0x7faba71d0610>,\n",
       "  <matplotlib.axis.XTick object at 0x7faba71d0d60>,\n",
       "  <matplotlib.axis.XTick object at 0x7faba71e14c0>,\n",
       "  <matplotlib.axis.XTick object at 0x7faba71d0dc0>],\n",
       " [Text(5000, 0, '5k'),\n",
       "  Text(10000, 0, '10k'),\n",
       "  Text(15000, 0, '15k'),\n",
       "  Text(20000, 0, '20k'),\n",
       "  Text(25000, 0, '25k'),\n",
       "  Text(30000, 0, '30k'),\n",
       "  Text(35000, 0, '35k'),\n",
       "  Text(40000, 0, '40k'),\n",
       "  Text(45000, 0, '45k'),\n",
       "  Text(50000, 0, '50k'),\n",
       "  Text(55000, 0, '55k'),\n",
       "  Text(60000, 0, '60k'),\n",
       "  Text(65000, 0, '65k'),\n",
       "  Text(70000, 0, '70k'),\n",
       "  Text(75000, 0, '75k'),\n",
       "  Text(80000, 0, '80k')])"
      ]
     },
     "execution_count": 110,
     "metadata": {},
     "output_type": "execute_result"
    },
    {
     "data": {
      "image/png": "[encoded data removed]",
      "text/plain": [
       "<Figure size 432x288 with 1 Axes>"
      ]
     },
     "metadata": {
      "needs_background": "light"
     },
     "output_type": "display_data"
    }
   ],
   "source": [
    "for key in run_results:\n",
    "    arrays_lat = [np.array(x) for x in run_results[key]]\n",
    "    arrays_qps = [np.array(x) for x in run_achieved_qps[key]]\n",
    "    \n",
    "    means_lat = [np.mean(k) for k in zip(*arrays_lat)]\n",
    "    errors_lat = [np.std(k) for k in zip(*arrays_lat)]\n",
    "    \n",
    "    means_qps = [np.mean(k) for k in zip(*arrays_qps)]\n",
    "    errors_qps = [np.std(k) for k in zip(*arrays_qps)]\n",
    "    \n",
    "    plt.plot(means_qps, means_lat)\n",
    "    \n",
    "\n",
    "xlabs = ['5k','10k','15k','20k','25k','30k','35k','40k','45k','50k','55k','60k','65k', '70k','75k','80k']\n",
    "plt.xticks(range(5000, 80001, 5000), xlabs)"
   ]
  },
  {
   "cell_type": "code",
   "execution_count": null,
   "id": "10c43104-8a55-4ca7-be04-2833ab69cc21",
   "metadata": {},
   "outputs": [],
   "source": []
  },
  {
   "cell_type": "code",
   "execution_count": null,
   "id": "f87b4339-8ffd-4b7f-8ba0-57036fbbb83b",
   "metadata": {},
   "outputs": [],
   "source": []
  },
  {
   "cell_type": "code",
   "execution_count": null,
   "id": "b55ed33d-f654-40bd-8b5b-f618c6035c2e",
   "metadata": {},
   "outputs": [],
   "source": []
  }
 ],
 "metadata": {
  "kernelspec": {
   "display_name": "SageMath 9.4",
   "language": "sage",
   "name": "sagemath"
  },
  "language_info": {
   "codemirror_mode": {
    "name": "ipython",
    "version": 3
   },
   "file_extension": ".py",
   "mimetype": "text/x-python",
   "name": "python",
   "nbconvert_exporter": "python",
   "pygments_lexer": "ipython3",
   "version": "3.9.7"
  }
 },
 "nbformat": 4,
 "nbformat_minor": 5
}
