{
 "cells": [
  {
   "cell_type": "code",
   "execution_count": 42,
   "id": "a57b8a25",
   "metadata": {},
   "outputs": [],
   "source": [
    "import pandas as pd\n",
    "\n",
    "# Read data for 2 cores\n",
    "\n",
    "mcperf_c2 = pd.read_csv('Core2/mcperf.raw' , delim_whitespace=True)\n",
    "util_c2 = pd.read_csv('Core2/utilization.raw')\n",
    "\n",
    "# Read data for 1 core\n",
    "\n",
    "mcperf_c1 = pd.read_csv('Core1/mcperf.raw' , delim_whitespace=True)\n",
    "util_c1 = pd.read_csv('Core1/utilization.raw')\n"
   ]
  },
  {
   "cell_type": "code",
   "execution_count": 43,
   "id": "e91d52ab",
   "metadata": {},
   "outputs": [],
   "source": [
    "import numpy as np\n",
    "def find_nearest(array, value):\n",
    "    array = np.asarray(array)\n",
    "    idx = (np.abs(array - value)).argmin()\n",
    "    return idx"
   ]
  },
  {
   "cell_type": "code",
   "execution_count": 52,
   "id": "b654909c",
   "metadata": {},
   "outputs": [],
   "source": [
    "# Add CPU utilization to mcperf data\n",
    "\n",
    "# Add cpu utilization colunn\n",
    "\n",
    "mcperf_c2[\"Utilization\"] = \" \"\n",
    "mcperf_c1[\"Utilization\"] = \" \"\n",
    "\n",
    "\n",
    "# For each row in the dataframe\n",
    "for index, row in mcperf_c2.iterrows():\n",
    "    mcp_ts = float(row['ts_start']) + (float(row['ts_end']) - float(row['ts_start']))/2\n",
    "    # One of the ts formats is in ms the other in fractions of second\n",
    "    # hence we devide by 1k\n",
    "    near_index = find_nearest(list(util_c2['TimeStamp']) , mcp_ts / 1000)\n",
    "    # Set appropriate utilization\n",
    "    mcperf_c2.loc[index,['Utilization']] = list(util_c2['C1'])[near_index] + list(util_c2['C2'])[near_index]\n",
    "\n",
    "# For each row in the dataframe\n",
    "for index, row in mcperf_c1.iterrows():\n",
    "    mcp_ts = float(row['ts_start']) + (float(row['ts_end']) - float(row['ts_start']))/2\n",
    "    # One of the ts formats is in ms the other in fractions of second\n",
    "    # hence we devide by 1k\n",
    "    near_index = find_nearest(list(util_c1['TimeStamp']) , mcp_ts / 1000)\n",
    "    \n",
    "\n",
    "    # Set appropriate utilization\n",
    "    mcperf_c1.loc[index,['Utilization']] = list(util_c1['C1'])[near_index]\n",
    "    \n",
    "#mcperf_c1\n",
    "#mcperf_c2"
   ]
  },
  {
   "cell_type": "code",
   "execution_count": 54,
   "id": "6a9cc996",
   "metadata": {},
   "outputs": [],
   "source": []
  },
  {
   "cell_type": "code",
   "execution_count": 76,
   "id": "878968f6",
   "metadata": {},
   "outputs": [
    {
     "data": {
      "text/plain": [
       "<Figure size 1000x500 with 0 Axes>"
      ]
     },
     "metadata": {},
     "output_type": "display_data"
    },
    {
     "data": {
      "image/png": "[encoded data removed]",
      "text/plain": [
       "<Figure size 432x288 with 2 Axes>"
      ]
     },
     "metadata": {
      "needs_background": "light"
     },
     "output_type": "display_data"
    }
   ],
   "source": [
    "from matplotlib import pyplot as plt\n",
    "from pylab import *\n",
    "plt.figure(figsize=(10,5),dpi=100)\n",
    "\n",
    "###########################################################\n",
    "# Plot left axis\n",
    "\n",
    "#plot(mcperf_c1['QPS'], mcperf_c1['Utilization'])mcperf_c1['Utilization']\n",
    "\n",
    "# create figure and axis objects with subplots()\n",
    "fig,ax = plt.subplots()\n",
    "\n",
    "xlabs = ['0k', '10k', '20k','30k','40k','50k','60k', '70k','80k','90k','100k', '110k','120k']\n",
    "plt.xticks(range(0, 120001, 10000), xlabs)\n",
    "\n",
    "\n",
    "# make a plot\n",
    "ax.plot(mcperf_c1['QPS'],  mcperf_c1['p95'], color=\"red\", marker=\"o\")\n",
    "# set x-axis label\n",
    "\n",
    "ax.set_xlabel(\"Achieved QPS\",fontsize=12)\n",
    "\n",
    "ax2=ax.twinx()\n",
    "ax2.plot(mcperf_c1['QPS'], mcperf_c1['Utilization'],color=\"blue\",marker=\"o\")\n",
    "\n",
    "plt.show()\n"
   ]
  },
  {
   "cell_type": "code",
   "execution_count": null,
   "id": "772db558",
   "metadata": {},
   "outputs": [],
   "source": []
  }
 ],
 "metadata": {
  "kernelspec": {
   "display_name": "SageMath 9.4",
   "language": "sage",
   "name": "sagemath"
  },
  "language_info": {
   "codemirror_mode": {
    "name": "ipython",
    "version": 3
   },
   "file_extension": ".py",
   "mimetype": "text/x-python",
   "name": "python",
   "nbconvert_exporter": "python",
   "pygments_lexer": "ipython3",
   "version": "3.9.7"
  }
 },
 "nbformat": 4,
 "nbformat_minor": 5
}
