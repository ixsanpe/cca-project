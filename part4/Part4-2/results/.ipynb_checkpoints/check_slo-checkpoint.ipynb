{
 "cells": [
  {
   "cell_type": "code",
   "execution_count": null,
   "id": "37b9196b",
   "metadata": {},
   "outputs": [],
   "source": [
    "import pandas as pd\n",
    "base_path = 'mcperf_qps_'\n",
    "run_results = []\n",
    "run_achieved_qps = []\n",
    "# Load each run's results\n",
    "#nRuns =  1\n",
    "i=1\n",
    "#for i in range(1, nRuns+1):\n",
    "data = pd.read_csv(base_path + str(i) + '.raw' ,delim_whitespace=True)\n",
    "res = list(data['p95'])\n",
    "qps = list(data['QPS'])\n",
    "run_results.append(res)\n",
    "run_achieved_qps.append(qps)"
   ]
  },
  {
   "cell_type": "code",
   "execution_count": 15,
   "id": "8c35e1c7",
   "metadata": {},
   "outputs": [],
   "source": [
    "violation = len(list(filter(lambda x: x >= 2000, res)))/len(res)*100"
   ]
  },
  {
   "cell_type": "code",
   "execution_count": 16,
   "id": "5a8240b2",
   "metadata": {},
   "outputs": [
    {
     "data": {
      "text/plain": [
       "61.66666666666667"
      ]
     },
     "execution_count": 16,
     "metadata": {},
     "output_type": "execute_result"
    }
   ],
   "source": [
    "violation"
   ]
  }
 ],
 "metadata": {
  "kernelspec": {
   "display_name": "Python (myenv)",
   "language": "python",
   "name": "myenv"
  },
  "language_info": {
   "codemirror_mode": {
    "name": "ipython",
    "version": 3
   },
   "file_extension": ".py",
   "mimetype": "text/x-python",
   "name": "python",
   "nbconvert_exporter": "python",
   "pygments_lexer": "ipython3",
   "version": "3.8.8"
  }
 },
 "nbformat": 4,
 "nbformat_minor": 5
}
