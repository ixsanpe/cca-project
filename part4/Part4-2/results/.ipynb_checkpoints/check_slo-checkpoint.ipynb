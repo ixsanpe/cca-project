{
 "cells": [
  {
   "cell_type": "code",
   "execution_count": 33,
   "id": "4ebd3a29",
   "metadata": {},
   "outputs": [
    {
     "data": {
      "text/plain": [
       "2.5531914893617023"
      ]
     },
     "execution_count": 33,
     "metadata": {},
     "output_type": "execute_result"
    }
   ],
   "source": [
    "import pandas as pd\n",
    "import numpy as np\n",
    "base_path = 'good_interval_10/'\n",
    "run_results = []\n",
    "run_achieved_qps = []\n",
    "violation = []\n",
    "# Load each run's results\n",
    "nRuns =  3\n",
    "\n",
    "for i in range(1, nRuns+1):\n",
    "    data = pd.read_csv(base_path + '/qps_' + str(i) + '.raw' ,delim_whitespace=True)\n",
    "    res = list(data['p95'])\n",
    "    qps = list(data['QPS'])\n",
    "    run_results.append(res)\n",
    "    run_achieved_qps.append(qps)\n",
    "    slo = len(list(filter(lambda x: x >= 1500, res)))/(len(res))*100\n",
    "    violation.append(slo)\n",
    "np.mean(violation)\n"
   ]
  },
  {
   "cell_type": "code",
   "execution_count": 30,
   "id": "ca0d98b8",
   "metadata": {},
   "outputs": [],
   "source": [
    "violation = len(list(filter(lambda x: x >= 1500, res)))/(len(res))*100"
   ]
  },
  {
   "cell_type": "code",
   "execution_count": 31,
   "id": "d9115172",
   "metadata": {},
   "outputs": [
    {
     "data": {
      "text/plain": [
       "1.6666666666666667"
      ]
     },
     "execution_count": 31,
     "metadata": {},
     "output_type": "execute_result"
    }
   ],
   "source": [
    "violation"
   ]
  }
 ],
 "metadata": {
  "kernelspec": {
   "display_name": "Python (myenv)",
   "language": "python",
   "name": "myenv"
  },
  "language_info": {
   "codemirror_mode": {
    "name": "ipython",
    "version": 3
   },
   "file_extension": ".py",
   "mimetype": "text/x-python",
   "name": "python",
   "nbconvert_exporter": "python",
   "pygments_lexer": "ipython3",
   "version": "3.8.8"
  }
 },
 "nbformat": 4,
 "nbformat_minor": 5
}
