{
 "cells": [
  {
   "cell_type": "code",
   "execution_count": 39,
   "id": "4ebd3a29",
   "metadata": {},
   "outputs": [
    {
     "data": {
      "text/plain": [
       "2.5531914893617023"
      ]
     },
     "execution_count": 39,
     "metadata": {},
     "output_type": "execute_result"
    }
   ],
   "source": [
    "## SLO for 10 seconds interval\n",
    "\n",
    "import pandas as pd\n",
    "import numpy as np\n",
    "base_path = 'good_interval_10/'\n",
    "run_results = []\n",
    "run_achieved_qps = []\n",
    "violation = []\n",
    "# Load runs 2-4:\n",
    "nRuns =  4\n",
    "\n",
    "for i in range(2, nRuns+1):\n",
    "    data = pd.read_csv(base_path + 'qps_' + str(i) + '.raw' ,delim_whitespace=True)\n",
    "    res = list(data['p95'])\n",
    "    qps = list(data['QPS'])\n",
    "    run_results.append(res)\n",
    "    run_achieved_qps.append(qps)\n",
    "    slo = len(list(filter(lambda x: x >= 1500, res)))/(len(res))*100\n",
    "    violation.append(slo)\n",
    "np.mean(violation)\n"
   ]
  },
  {
   "cell_type": "code",
   "execution_count": 50,
   "id": "b6075aec",
   "metadata": {},
   "outputs": [
    {
     "name": "stdout",
     "output_type": "stream",
     "text": [
      "3.0555555555555554\n"
     ]
    }
   ],
   "source": [
    "## SLO for 5 seconds interval\n",
    "\n",
    "import pandas as pd\n",
    "import numpy as np\n",
    "base_path = 'good_interval_5/'\n",
    "run_results = []\n",
    "run_achieved_qps = []\n",
    "violation = []\n",
    "# Load runs 2-4:\n",
    "nRuns =  1\n",
    "data = pd.read_csv(base_path + 'qps' + '.raw' ,delim_whitespace=True)\n",
    "res = list(data['p95'])\n",
    "qps = list(data['QPS'])\n",
    "run_results.append(res)\n",
    "run_achieved_qps.append(qps)\n",
    "slo = len(list(filter(lambda x: x >= 1500, res)))/(len(res))*100\n",
    "print(slo)"
   ]
  },
  {
   "cell_type": "code",
   "execution_count": 47,
   "id": "d4afdc16",
   "metadata": {},
   "outputs": [
    {
     "data": {
      "text/plain": [
       "2.666666666666667"
      ]
     },
     "execution_count": 47,
     "metadata": {},
     "output_type": "execute_result"
    }
   ],
   "source": [
    "## SLO for 10 seconds interval\n",
    "\n",
    "import pandas as pd\n",
    "import numpy as np\n",
    "base_path = 'good_interval_X/'\n",
    "run_results = []\n",
    "run_achieved_qps = []\n",
    "violation = []\n",
    "# Load runs 1-3:\n",
    "nRuns =  1\n",
    "\n",
    "for i in range(1, nRuns+1):\n",
    "    data = pd.read_csv(base_path + 'qps_' + str(i) + '.raw' ,delim_whitespace=True)\n",
    "    res = list(data['p95'])\n",
    "    qps = list(data['QPS'])\n",
    "    run_results.append(res)\n",
    "    run_achieved_qps.append(qps)\n",
    "    slo = len(list(filter(lambda x: x >= 1500, res)))/(len(res))*100\n",
    "    violation.append(slo)\n",
    "np.mean(violation)"
   ]
  }
 ],
 "metadata": {
  "kernelspec": {
   "display_name": "Python (myenv)",
   "language": "python",
   "name": "myenv"
  },
  "language_info": {
   "codemirror_mode": {
    "name": "ipython",
    "version": 3
   },
   "file_extension": ".py",
   "mimetype": "text/x-python",
   "name": "python",
   "nbconvert_exporter": "python",
   "pygments_lexer": "ipython3",
   "version": "3.8.8"
  }
 },
 "nbformat": 4,
 "nbformat_minor": 5
}
