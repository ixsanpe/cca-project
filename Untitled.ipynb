{
 "cells": [
  {
   "cell_type": "code",
   "execution_count": 1,
   "id": "1ceb8750-df8d-4749-9525-c8a4e2a386d4",
   "metadata": {},
   "outputs": [],
   "source": [
    "# Do some computations to try and assess what a 'significant speedup' is\n"
   ]
  },
  {
   "cell_type": "code",
   "execution_count": null,
   "id": "c8fd783c-ac28-4fe4-b1e7-c192657b0506",
   "metadata": {},
   "outputs": [],
   "source": []
  }
 ],
 "metadata": {
  "kernelspec": {
   "display_name": "SageMath 9.4",
   "language": "sage",
   "name": "sagemath"
  },
  "language_info": {
   "codemirror_mode": {
    "name": "ipython",
    "version": 3
   },
   "file_extension": ".py",
   "mimetype": "text/x-python",
   "name": "python",
   "nbconvert_exporter": "python",
   "pygments_lexer": "ipython3",
   "version": "3.9.7"
  }
 },
 "nbformat": 4,
 "nbformat_minor": 5
}
