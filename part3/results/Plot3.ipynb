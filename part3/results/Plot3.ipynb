{
 "cells": [
  {
   "cell_type": "code",
   "execution_count": 43,
   "id": "a3b09e02",
   "metadata": {},
   "outputs": [
    {
     "name": "stdout",
     "output_type": "stream",
     "text": [
      "Job:  parsecblackscholes\n",
      "Job time:  0:01:27\n",
      "Job:  parseccanneal\n",
      "Job time:  0:03:22\n",
      "Job:  parsecdedup\n",
      "Job time:  0:01:21\n",
      "Job:  parsecferret\n",
      "Job time:  0:05:08\n",
      "Job:  parsecfreqmine\n",
      "Job time:  0:01:54\n",
      "Job:  parsec-splash2x-fft\n",
      "Job time:  0:02:03\n",
      "Job:  memcached\n",
      "Total time: 0:07:08\n",
      "-----------\n",
      "428.0\n",
      "Job:  parsecblackscholes\n",
      "Job time:  0:01:27\n",
      "Job:  parseccanneal\n",
      "Job time:  0:03:00\n",
      "Job:  parsecdedup\n",
      "Job time:  0:01:35\n",
      "Job:  parsecferret\n",
      "Job time:  0:05:20\n",
      "Job:  parsecfreqmine\n",
      "Job time:  0:02:08\n",
      "Job:  parsec-splash2x-fft\n",
      "Job time:  0:01:40\n",
      "Job:  memcached\n",
      "Total time: 0:07:10\n",
      "-----------\n",
      "430.0\n",
      "Job:  parsecblackscholes\n",
      "Job time:  0:01:27\n",
      "Job:  parseccanneal\n",
      "Job time:  0:03:09\n",
      "Job:  parsecdedup\n",
      "Job time:  0:01:38\n",
      "Job:  parsecferret\n",
      "Job time:  0:05:18\n",
      "Job:  parsecfreqmine\n",
      "Job time:  0:01:53\n",
      "Job:  parsec-splash2x-fft\n",
      "Job time:  0:01:50\n",
      "Job:  memcached\n",
      "Total time: 0:06:52\n",
      "-----------\n",
      "412.0\n",
      "[[ 87. 202.  81. 308. 114. 123. 428.]\n",
      " [ 87. 180.  95. 320. 128. 100. 430.]\n",
      " [ 87. 189.  98. 318. 113. 110. 412.]]\n",
      "['parsecblackscholes', 'parseccanneal', 'parsecdedup', 'parsecferret', 'parsecfreqmine', 'parsec-splash2x-fft', 'memcached']\n",
      "[ 87.         190.33333333  91.33333333 315.33333333 118.33333333\n",
      " 111.         423.33333333]\n",
      "[0.         9.03081146 7.40870359 5.24933858 6.84754619 9.41629793\n",
      " 8.05536398]\n"
     ]
    }
   ],
   "source": [
    "import json\n",
    "import sys\n",
    "import numpy as np\n",
    "from datetime import datetime\n",
    "\n",
    "time_format = '%Y-%m-%dT%H:%M:%SZ'\n",
    "\n",
    "allRuns = ['config_3/results_parsec_run1.json', 'config_3/results_parsec_run2.json', 'config_3/results_parsec_run3.json']\n",
    "total_times = np.zeros((3,7))\n",
    "for run in allRuns:\n",
    "    file = open(run, 'r')\n",
    "    json_file = json.load(file)\n",
    "    start_times = []\n",
    "    completion_times = []\n",
    "    names = []\n",
    "\n",
    "    pos = allRuns.index(run)\n",
    "    \n",
    "    for item in json_file['items']:\n",
    "        name = item['status']['containerStatuses'][0]['name']\n",
    "        names.append(name)\n",
    "        print(\"Job: \", str(name))\n",
    "        if str(name) != \"memcached\":\n",
    "            try:\n",
    "                start_time = datetime.strptime(\n",
    "                        item['status']['containerStatuses'][0]['state']['terminated']['startedAt'],\n",
    "                        time_format)\n",
    "                completion_time = datetime.strptime(\n",
    "                        item['status']['containerStatuses'][0]['state']['terminated']['finishedAt'],\n",
    "                        time_format)\n",
    "                print(\"Job time: \", completion_time - start_time)\n",
    "                start_times.append(start_time)\n",
    "                completion_times.append(completion_time)\n",
    "            except KeyError:\n",
    "                print(\"Job {0} has not completed....\".format(name))\n",
    "                sys.exit(0)\n",
    "\n",
    "    if len(start_times) != 6 and len(completion_times) != 6:\n",
    "        print(\"You haven't run all the PARSEC jobs. Exiting...\")\n",
    "        sys.exit(0)\n",
    "        \n",
    "    total_times[pos,0:6] = [(x - y).total_seconds() for x,y in zip(completion_times, start_times)]\n",
    "    total_times[pos,-1] = (max(completion_times) - min(start_times)).total_seconds()\n",
    "    #print(names)\n",
    "    #print(total_times)\n",
    "    print(\"Total time: {0}\".format(max(completion_times) - min(start_times)))\n",
    "    print(\"-----------\")\n",
    "    file.close()\n",
    "    print((max(completion_times) - min(start_times)).total_seconds())\n",
    "    \n",
    "# Results for part 3a\n",
    "print(total_times)\n",
    "print(names)\n",
    "means = np.mean(total_times,0)\n",
    "print(means)\n",
    "std = np.std(total_times,0)\n",
    "print(std)\n"
   ]
  },
  {
   "cell_type": "code",
   "execution_count": 44,
   "id": "30d4914f",
   "metadata": {},
   "outputs": [
    {
     "data": {
      "text/plain": [
       "7.05"
      ]
     },
     "execution_count": 44,
     "metadata": {},
     "output_type": "execute_result"
    }
   ],
   "source": [
    "423/60"
   ]
  },
  {
   "cell_type": "code",
   "execution_count": null,
   "id": "c05dcc56",
   "metadata": {},
   "outputs": [],
   "source": []
  }
 ],
 "metadata": {
  "kernelspec": {
   "display_name": "Python 3 (ipykernel)",
   "language": "python",
   "name": "python3"
  },
  "language_info": {
   "codemirror_mode": {
    "name": "ipython",
    "version": 3
   },
   "file_extension": ".py",
   "mimetype": "text/x-python",
   "name": "python",
   "nbconvert_exporter": "python",
   "pygments_lexer": "ipython3",
   "version": "3.8.8"
  }
 },
 "nbformat": 4,
 "nbformat_minor": 5
}
